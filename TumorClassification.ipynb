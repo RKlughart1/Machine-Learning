{
  "nbformat": 4,
  "nbformat_minor": 0,
  "metadata": {
    "colab": {
      "name": "TumorClassification.ipynb",
      "provenance": [],
      "collapsed_sections": []
    },
    "kernelspec": {
      "name": "python3",
      "display_name": "Python 3"
    }
  },
  "cells": [
    {
      "cell_type": "markdown",
      "metadata": {
        "id": "MIqtwqJDqJVG"
      },
      "source": [
        "Classification of tumors given numerical measurements of tumors "
      ]
    },
    {
      "cell_type": "code",
      "metadata": {
        "id": "YahRxecqnAYZ"
      },
      "source": [
        "from pandas import read_csv\n",
        "data = read_csv('breast-cancer-wisconsin.data')\n",
        "data.describe\n",
        "print(data.dtypes)\n",
        "from collections import Counter\n",
        "from numpy import round\n",
        "import numpy as np\n",
        "target  = data.values[:,-1]\n",
        "counter = Counter(target)\n",
        "print(counter)\n",
        "for v,c in counter.items():\n",
        "  print('{}% are {}'.format(round(c/len(target)*100,1),v))\n",
        "print('4 is malignant\\n2 is benign')"
      ],
      "execution_count": null,
      "outputs": []
    },
    {
      "cell_type": "code",
      "metadata": {
        "id": "GTEsbARQut3R",
        "colab": {
          "base_uri": "https://localhost:8080/"
        },
        "outputId": "362ad9c1-4be3-48e5-c10e-581b2c0c986a"
      },
      "source": [
        "#Replacing missing entries with average\n",
        "column = data['1.3'] \n",
        "subset = column[column!='?']\n",
        "print(round(np.mean(subset.astype(int))))\n",
        "average = np.mean(subset.astype(int))\n",
        "data['1.3'].replace({\"?\": average}, inplace=True)\n",
        "data['1.3']=data['1.3'].astype('int')\n",
        "print(data.dtypes)"
      ],
      "execution_count": null,
      "outputs": [
        {
          "output_type": "stream",
          "text": [
            "4.0\n",
            "1000025    int64\n",
            "5          int64\n",
            "1          int64\n",
            "1.1        int64\n",
            "1.2        int64\n",
            "2          int64\n",
            "1.3        int64\n",
            "3          int64\n",
            "1.4        int64\n",
            "1.5        int64\n",
            "2.1        int64\n",
            "dtype: object\n"
          ],
          "name": "stdout"
        }
      ]
    },
    {
      "cell_type": "code",
      "metadata": {
        "id": "YzjBEkLJwfK4",
        "colab": {
          "base_uri": "https://localhost:8080/",
          "height": 315
        },
        "outputId": "27b638be-c8db-431d-b4ad-fc8c61363d34"
      },
      "source": [
        "data_v = data.values\n",
        "\n",
        "from matplotlib import pyplot as plt\n",
        "plt.hist(data_v[:,len(data.columns)-1],bins=3)\n"
      ],
      "execution_count": null,
      "outputs": [
        {
          "output_type": "execute_result",
          "data": {
            "text/plain": [
              "(array([457.,   0., 241.]),\n",
              " array([2.        , 2.66666667, 3.33333333, 4.        ]),\n",
              " <a list of 3 Patch objects>)"
            ]
          },
          "metadata": {
            "tags": []
          },
          "execution_count": 76
        },
        {
          "output_type": "display_data",
          "data": {
            "image/png": "[encoded data removed]",
            "text/plain": [
              "<Figure size 432x288 with 1 Axes>"
            ]
          },
          "metadata": {
            "tags": [],
            "needs_background": "light"
          }
        }
      ]
    },
    {
      "cell_type": "code",
      "metadata": {
        "id": "qplVJfenx8PJ",
        "colab": {
          "base_uri": "https://localhost:8080/",
          "height": 229
        },
        "outputId": "a1b1655e-6333-45a0-dbe1-ffc612a26708"
      },
      "source": [
        "import sklearn\n",
        "from sklearn.model_selection import train_test_split\n",
        "from pandas.plotting import scatter_matrix\n",
        "#scatter_matrix(data,figsize=(12,12))\n"
      ],
      "execution_count": 1,
      "outputs": [
        {
          "output_type": "error",
          "ename": "NameError",
          "evalue": "ignored",
          "traceback": [
            "\u001b[0;31m---------------------------------------------------------------------------\u001b[0m",
            "\u001b[0;31mNameError\u001b[0m                                 Traceback (most recent call last)",
            "\u001b[0;32m<ipython-input-1-fe8f6f4b1d40>\u001b[0m in \u001b[0;36m<module>\u001b[0;34m()\u001b[0m\n\u001b[1;32m      4\u001b[0m \u001b[0;31m#scatter_matrix(data,figsize=(12,12))\u001b[0m\u001b[0;34m\u001b[0m\u001b[0;34m\u001b[0m\u001b[0;34m\u001b[0m\u001b[0m\n\u001b[1;32m      5\u001b[0m \u001b[0;32mimport\u001b[0m \u001b[0mpandas\u001b[0m \u001b[0;32mas\u001b[0m \u001b[0mpd\u001b[0m\u001b[0;34m\u001b[0m\u001b[0;34m\u001b[0m\u001b[0m\n\u001b[0;32m----> 6\u001b[0;31m \u001b[0mdata_dia\u001b[0m \u001b[0;34m=\u001b[0m \u001b[0my\u001b[0m\u001b[0;34m\u001b[0m\u001b[0;34m\u001b[0m\u001b[0m\n\u001b[0m\u001b[1;32m      7\u001b[0m \u001b[0mdata\u001b[0m \u001b[0;34m=\u001b[0m \u001b[0mx\u001b[0m\u001b[0;34m\u001b[0m\u001b[0;34m\u001b[0m\u001b[0m\n\u001b[1;32m      8\u001b[0m \u001b[0mdata_n_2\u001b[0m \u001b[0;34m=\u001b[0m \u001b[0;34m(\u001b[0m\u001b[0mdata\u001b[0m \u001b[0;34m-\u001b[0m \u001b[0mdata\u001b[0m\u001b[0;34m.\u001b[0m\u001b[0mmean\u001b[0m\u001b[0;34m(\u001b[0m\u001b[0;34m)\u001b[0m\u001b[0;34m)\u001b[0m \u001b[0;34m/\u001b[0m \u001b[0;34m(\u001b[0m\u001b[0mdata\u001b[0m\u001b[0;34m.\u001b[0m\u001b[0mstd\u001b[0m\u001b[0;34m(\u001b[0m\u001b[0;34m)\u001b[0m\u001b[0;34m)\u001b[0m              \u001b[0;31m# standardization\u001b[0m\u001b[0;34m\u001b[0m\u001b[0;34m\u001b[0m\u001b[0m\n",
            "\u001b[0;31mNameError\u001b[0m: name 'y' is not defined"
          ]
        }
      ]
    },
    {
      "cell_type": "code",
      "metadata": {
        "id": "aTgj9WstJ8EY",
        "colab": {
          "base_uri": "https://localhost:8080/",
          "height": 229
        },
        "outputId": "984ebc11-ec1b-4e0f-945d-8f90dfd11e6a"
      },
      "source": [
        "from sklearn.preprocessing import LabelEncoder\n",
        "X = data.values[:,1:-1]\n",
        "y = data.values[:,-1]\n",
        "y = LabelEncoder().fit_transform(y)\n",
        "print(y)\n"
      ],
      "execution_count": 2,
      "outputs": [
        {
          "output_type": "error",
          "ename": "NameError",
          "evalue": "ignored",
          "traceback": [
            "\u001b[0;31m---------------------------------------------------------------------------\u001b[0m",
            "\u001b[0;31mNameError\u001b[0m                                 Traceback (most recent call last)",
            "\u001b[0;32m<ipython-input-2-364db076dbc9>\u001b[0m in \u001b[0;36m<module>\u001b[0;34m()\u001b[0m\n\u001b[1;32m      1\u001b[0m \u001b[0;32mfrom\u001b[0m \u001b[0msklearn\u001b[0m\u001b[0;34m.\u001b[0m\u001b[0mpreprocessing\u001b[0m \u001b[0;32mimport\u001b[0m \u001b[0mLabelEncoder\u001b[0m\u001b[0;34m\u001b[0m\u001b[0;34m\u001b[0m\u001b[0m\n\u001b[0;32m----> 2\u001b[0;31m \u001b[0mX\u001b[0m \u001b[0;34m=\u001b[0m \u001b[0mdata\u001b[0m\u001b[0;34m.\u001b[0m\u001b[0mvalues\u001b[0m\u001b[0;34m[\u001b[0m\u001b[0;34m:\u001b[0m\u001b[0;34m,\u001b[0m\u001b[0;36m1\u001b[0m\u001b[0;34m:\u001b[0m\u001b[0;34m-\u001b[0m\u001b[0;36m1\u001b[0m\u001b[0;34m]\u001b[0m\u001b[0;34m\u001b[0m\u001b[0;34m\u001b[0m\u001b[0m\n\u001b[0m\u001b[1;32m      3\u001b[0m \u001b[0my\u001b[0m \u001b[0;34m=\u001b[0m \u001b[0mdata\u001b[0m\u001b[0;34m.\u001b[0m\u001b[0mvalues\u001b[0m\u001b[0;34m[\u001b[0m\u001b[0;34m:\u001b[0m\u001b[0;34m,\u001b[0m\u001b[0;34m-\u001b[0m\u001b[0;36m1\u001b[0m\u001b[0;34m]\u001b[0m\u001b[0;34m\u001b[0m\u001b[0;34m\u001b[0m\u001b[0m\n\u001b[1;32m      4\u001b[0m \u001b[0my\u001b[0m \u001b[0;34m=\u001b[0m \u001b[0mLabelEncoder\u001b[0m\u001b[0;34m(\u001b[0m\u001b[0;34m)\u001b[0m\u001b[0;34m.\u001b[0m\u001b[0mfit_transform\u001b[0m\u001b[0;34m(\u001b[0m\u001b[0my\u001b[0m\u001b[0;34m)\u001b[0m\u001b[0;34m\u001b[0m\u001b[0;34m\u001b[0m\u001b[0m\n\u001b[1;32m      5\u001b[0m \u001b[0mprint\u001b[0m\u001b[0;34m(\u001b[0m\u001b[0my\u001b[0m\u001b[0;34m)\u001b[0m\u001b[0;34m\u001b[0m\u001b[0;34m\u001b[0m\u001b[0m\n",
            "\u001b[0;31mNameError\u001b[0m: name 'data' is not defined"
          ]
        }
      ]
    },
    {
      "cell_type": "code",
      "metadata": {
        "id": "zpBy03mroic4",
        "colab": {
          "base_uri": "https://localhost:8080/"
        },
        "outputId": "8b3718b5-62d1-4e62-87b3-6cb45c7c615b"
      },
      "source": [
        "print(X)"
      ],
      "execution_count": null,
      "outputs": [
        {
          "output_type": "stream",
          "text": [
            "[[ 5  4  4 ...  3  2  1]\n",
            " [ 3  1  1 ...  3  1  1]\n",
            " [ 6  8  8 ...  3  7  1]\n",
            " ...\n",
            " [ 5 10 10 ...  8 10  2]\n",
            " [ 4  8  6 ... 10  6  1]\n",
            " [ 4  8  8 ... 10  4  1]]\n"
          ],
          "name": "stdout"
        }
      ]
    },
    {
      "cell_type": "code",
      "metadata": {
        "id": "kgUapPwqKaVo",
        "colab": {
          "base_uri": "https://localhost:8080/"
        },
        "outputId": "e7d077b3-4e14-46a7-8f76-942119d257c0"
      },
      "source": [
        "X_train,X_test,y_train,y_test = train_test_split(X,y,test_size=.2,\n",
        "                                                 random_state=1)\n",
        "print(X_train.shape,X_test.shape,X.shape) #80% training #20% testing"
      ],
      "execution_count": null,
      "outputs": [
        {
          "output_type": "stream",
          "text": [
            "(558, 9) (140, 9) (698, 9)\n"
          ],
          "name": "stdout"
        }
      ]
    },
    {
      "cell_type": "code",
      "metadata": {
        "id": "xr6oPFUhOngp",
        "colab": {
          "base_uri": "https://localhost:8080/"
        },
        "outputId": "c740cbd4-5e93-4338-ddd6-8eb561e603e5"
      },
      "source": [
        "#Standardizing the data\n",
        "from sklearn.preprocessing import StandardScaler\n",
        "sc = StandardScaler()\n",
        "X_train = sc.fit_transform(X_train)\n",
        "X_test = sc.fit_transform(X_test)\n",
        "print(X_train)"
      ],
      "execution_count": null,
      "outputs": [
        {
          "output_type": "stream",
          "text": [
            "[[ 1.93356726  2.17555154  1.21986044 ...  2.65691374  2.28061534\n",
            "   0.81352217]\n",
            " [-1.2130221  -0.7240291  -0.77432547 ... -0.59698556  0.01046154\n",
            "  -0.34302655]\n",
            " [ 1.93356726  1.20902466  1.21986044 ...  0.21648927 -0.63815383\n",
            "   0.23524781]\n",
            " ...\n",
            " [ 1.58394622  0.24249778  0.5551318  ...  0.21648927  1.63199997\n",
            "  -0.34302655]\n",
            " [ 1.93356726  1.53120029  1.55222476 ...  0.21648927  1.63199997\n",
            "   4.86144269]\n",
            " [ 0.18546206  0.24249778  0.22276748 ...  0.62322668  0.98338459\n",
            "  -0.34302655]]\n"
          ],
          "name": "stdout"
        }
      ]
    },
    {
      "cell_type": "code",
      "metadata": {
        "id": "iwr0VEvCLyTX"
      },
      "source": [
        "\n",
        "from matplotlib import pyplot as plt\n",
        "from sklearn.model_selection import train_test_split\n",
        "from sklearn.model_selection import cross_val_score\n",
        "from sklearn.model_selection import StratifiedKFold\n",
        "from sklearn.metrics import classification_report\n",
        "from sklearn.metrics import confusion_matrix\n",
        "from sklearn.metrics import accuracy_score\n",
        "from sklearn.linear_model import LogisticRegression\n",
        "from sklearn.tree import DecisionTreeClassifier\n",
        "from sklearn.neighbors import KNeighborsClassifier\n",
        "from sklearn.discriminant_analysis import LinearDiscriminantAnalysis\n",
        "from sklearn.discriminant_analysis import QuadraticDiscriminantAnalysis\n",
        "from sklearn.ensemble import RandomForestClassifier\n",
        "from sklearn.naive_bayes import GaussianNB\n",
        "from sklearn.svm import SVC"
      ],
      "execution_count": null,
      "outputs": []
    },
    {
      "cell_type": "code",
      "metadata": {
        "id": "3cDv8Eu-K-W9",
        "colab": {
          "base_uri": "https://localhost:8080/"
        },
        "outputId": "4f666147-5497-4f14-c724-41a26bc53f22"
      },
      "source": [
        "models = []\n",
        "models.append(('LR', LogisticRegression(solver='liblinear', multi_class='ovr')))\n",
        "models.append(('LDA', LinearDiscriminantAnalysis()))\n",
        "models.append(('KNN', KNeighborsClassifier()))\n",
        "models.append(('CART', DecisionTreeClassifier()))\n",
        "models.append(('NB', GaussianNB()))\n",
        "models.append(('QDA',QuadraticDiscriminantAnalysis()))\n",
        "models.append(('SVM', SVC(gamma='auto')))\n",
        "models.append(('RFC',RandomForestClassifier(n_estimators=100,criterion='entropy',\n",
        "                                           random_state=0)))\n",
        "# evaluate each model in turn\n",
        "results = []\n",
        "names = []\n",
        "for name, model in models:\n",
        "\tkfold = StratifiedKFold(n_splits=10, random_state=1, shuffle=True)\n",
        "\tcv_results = cross_val_score(model, X_train, y_train, cv=kfold, scoring='accuracy')\n",
        "\tresults.append(cv_results)\n",
        "\tnames.append(name)\n",
        "\tprint('%s: %f (%f)' % (name, cv_results.mean(), cv_results.std()))"
      ],
      "execution_count": null,
      "outputs": [
        {
          "output_type": "stream",
          "text": [
            "LR: 0.965909 (0.016970)\n",
            "LDA: 0.956948 (0.021584)\n",
            "KNN: 0.960584 (0.019210)\n",
            "CART: 0.931883 (0.019348)\n",
            "NB: 0.958799 (0.019609)\n",
            "QDA: 0.955227 (0.019908)\n",
            "SVM: 0.964156 (0.017859)\n",
            "RFC: 0.962403 (0.020246)\n"
          ],
          "name": "stdout"
        }
      ]
    },
    {
      "cell_type": "code",
      "metadata": {
        "id": "yB1JvjvAMPQ4",
        "colab": {
          "base_uri": "https://localhost:8080/"
        },
        "outputId": "4be2675e-1d73-4aa0-9b9f-e013533653c6"
      },
      "source": [
        "model = LinearDiscriminantAnalysis()\n",
        "model.fit(X_train,y_train)\n",
        "scores = model.predict(X_test)\n",
        "acc = accuracy_score(y_test,scores)\n",
        "print(acc)"
      ],
      "execution_count": null,
      "outputs": [
        {
          "output_type": "stream",
          "text": [
            "0.9642857142857143\n"
          ],
          "name": "stdout"
        }
      ]
    },
    {
      "cell_type": "code",
      "metadata": {
        "id": "btCh9sGIQU3f",
        "colab": {
          "base_uri": "https://localhost:8080/",
          "height": 296
        },
        "outputId": "fea753f1-96ab-400e-fe68-f6eb9813201c"
      },
      "source": [
        "import tensorflow as tf\n",
        "from tensorflow.keras.applications.densenet import DenseNet201\n",
        "from matplotlib import pyplot \n",
        "model = tf.keras.models.Sequential([\n",
        "                                   tf.keras.layers.Dense(units=1024,activation='relu'),\n",
        "                                   tf.keras.layers.Dropout(.3),\n",
        "                                   tf.keras.layers.BatchNormalization(),\n",
        "                                   tf.keras.layers.Dense(units=512,activation='relu'),\n",
        "                                   tf.keras.layers.Dropout(.3),\n",
        "                                   tf.keras.layers.BatchNormalization(),\n",
        "                                   tf.keras.layers.Dense(units=256,activation='relu'),\n",
        "                                   tf.keras.layers.Dropout(.2),\n",
        "                                   tf.keras.layers.BatchNormalization(),\n",
        "                                  \n",
        "                                   tf.keras.layers.Dense(units=1,activation='sigmoid')\n",
        "])\n",
        "model.compile(optimizer=tf.keras.optimizers.RMSprop(learning_rate=0.00001,momentum=0.0),loss='binary_crossentropy',metrics=['accuracy'])\n",
        "\t# fit model\n",
        "history = model.fit(X_train,y_train, epochs=50, verbose=0)\n",
        "\t# plot learning curves\n",
        "pyplot.plot(history.history['accuracy'], label='train')\n",
        "pyplot.legend()\n",
        "pyplot.xlabel(\"Epoch\")\n",
        "pyplot.ylabel(\"Accuracy\")\n",
        "#print(max(history.history['accuracy']))\n",
        "#pyplot.title('momentum='+str(momentum), pad=-80)\n",
        "#model.fit(X_train,y_train,epochs=3,steps_per_epoch=10)"
      ],
      "execution_count": null,
      "outputs": [
        {
          "output_type": "execute_result",
          "data": {
            "text/plain": [
              "Text(0, 0.5, 'Accuracy')"
            ]
          },
          "metadata": {
            "tags": []
          },
          "execution_count": 85
        },
        {
          "output_type": "display_data",
          "data": {
            "image/png": "[encoded data removed]",
            "text/plain": [
              "<Figure size 432x288 with 1 Axes>"
            ]
          },
          "metadata": {
            "tags": [],
            "needs_background": "light"
          }
        }
      ]
    },
    {
      "cell_type": "code",
      "metadata": {
        "id": "vq4TDdZfReg3",
        "colab": {
          "base_uri": "https://localhost:8080/"
        },
        "outputId": "ec172cd6-873b-47da-858b-9af049cac43b"
      },
      "source": [
        "scores = model.predict(X_test)\n",
        "rs=[]\n",
        "for index,i in enumerate(scores):\n",
        "  if i >0.5:\n",
        "    scores[index]=1\n",
        "  else:\n",
        "    scores[index]=0\n",
        "\n",
        "acc = accuracy_score(y_test,scores)\n",
        "print(acc)"
      ],
      "execution_count": null,
      "outputs": [
        {
          "output_type": "stream",
          "text": [
            "0.9785714285714285\n"
          ],
          "name": "stdout"
        }
      ]
    },
    {
      "cell_type": "markdown",
      "metadata": {
        "id": "828rZQmpZZu1"
      },
      "source": [
        ""
      ]
    },
    {
      "cell_type": "code",
      "metadata": {
        "id": "HLybyHsuZcJ1"
      },
      "source": [
        "\n",
        "# fit a model and plot learning curve\n",
        "def fit_model(trainX, trainy, testX, testy, momentum):\n",
        "  model = tf.keras.models.Sequential([\n",
        "                                   tf.keras.layers.Dense(units=1024,activation='relu'),\n",
        "                                   tf.keras.layers.Dropout(.3),\n",
        "                                   tf.keras.layers.BatchNormalization(),\n",
        "                                   tf.keras.layers.Dense(units=512,activation='relu'),\n",
        "                                   tf.keras.layers.Dropout(.3),\n",
        "                                   tf.keras.layers.BatchNormalization(),\n",
        "                                   tf.keras.layers.Dense(units=256,activation='relu'),\n",
        "                                   tf.keras.layers.Dropout(.3),\n",
        "                                   tf.keras.layers.BatchNormalization(),\n",
        "                                  \n",
        "                                   tf.keras.layers.Dense(units=1,activation='sigmoid')\n",
        "                                   ])\n",
        "  \n",
        "  model.compile(optimizer=tf.keras.optimizers.RMSprop(learning_rate=0.00001,momentum=momentum),loss='binary_crossentropy',metrics=['accuracy'])\n",
        "\t# fit model\n",
        "  history = model.fit(trainX, trainy, validation_data=(testX, testy), epochs=20, verbose=0)\n",
        "\t# plot learning curves\n",
        "  pyplot.plot(history.history['accuracy'], label='train')\n",
        "  pyplot.plot(history.history['val_accuracy'], label='test')\n",
        "  pyplot.legend()\n",
        "  pyplot.title('momentum='+str(momentum), pad=-80)"
      ],
      "execution_count": null,
      "outputs": []
    },
    {
      "cell_type": "code",
      "metadata": {
        "id": "ztfrCC1_Zf7T",
        "colab": {
          "base_uri": "https://localhost:8080/",
          "height": 605
        },
        "outputId": "88aed62a-7333-43ae-f5e7-41a419a21e34"
      },
      "source": [
        "\n",
        "f, axs = pyplot.subplots(2,2,figsize=(15,15))\n",
        "f.set_figheight(10)\n",
        "f.set_figwidth(10)\n",
        "\n",
        "\n",
        "# create learning curves for different momentums\n",
        "momentums = [0.0, 0.5, 0.9, 0.99,0.3,.04]\n",
        "for i in range(len(momentums)):\n",
        "\t# determine the plot number\n",
        "\tplot_no = 320 + (i+1)\n",
        "\tpyplot.subplot(plot_no)\n",
        "\t# fit model and plot learning curves for a momentum\n",
        "\tfit_model(X_train, y_train, X_test, y_test, momentums[i])\n",
        "# show learning curves\n",
        "pyplot.show()"
      ],
      "execution_count": null,
      "outputs": [
        {
          "output_type": "display_data",
          "data": {
            "image/png": "[encoded data removed]",
            "text/plain": [
              "<Figure size 720x720 with 6 Axes>"
            ]
          },
          "metadata": {
            "tags": [],
            "needs_background": "light"
          }
        }
      ]
    }
  ]
}